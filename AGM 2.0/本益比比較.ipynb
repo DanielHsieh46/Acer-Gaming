{
 "cells": [
  {
   "cell_type": "code",
   "execution_count": 3,
   "id": "cc33edd6",
   "metadata": {},
   "outputs": [
    {
     "name": "stdout",
     "output_type": "stream",
     "text": [
      "1.3388521429744016 3.730401886212311\n",
      "Tax Effect Of Unusual Items                                              0.0\n",
      "Tax Rate For Calcs                                                  0.625209\n",
      "Normalized EBITDA                                               5648924000.0\n",
      "Net Income From Continuing Operation Net Minority Interest      2606061000.0\n",
      "Reconciled Depreciation                                         1005857000.0\n",
      "Reconciled Cost Of Revenue                                    112596114000.0\n",
      "EBITDA                                                          5648924000.0\n",
      "EBIT                                                            4643067000.0\n",
      "Net Interest Income                                              812552000.0\n",
      "Interest Expense                                                 289507000.0\n",
      "Interest Income                                                 1102059000.0\n",
      "Normalized Income                                               2606061000.0\n",
      "Net Income From Continuing And Discontinued Operation           2606061000.0\n",
      "Total Expenses                                                123721397000.0\n",
      "Diluted Average Shares                                          6002381064.0\n",
      "Basic Average Shares                                            5992559064.0\n",
      "Diluted EPS                                                             0.87\n",
      "Basic EPS                                                               0.87\n",
      "Diluted NI Availto Com Stockholders                             2606061000.0\n",
      "Net Income Common Stockholders                                  2606061000.0\n",
      "Otherunder Preferred Stock Dividend                                      0.0\n",
      "Net Income                                                      2606061000.0\n",
      "Minority Interests                                              -390938000.0\n",
      "Net Income Including Noncontrolling Interests                   2996999000.0\n",
      "Net Income Continuous Operations                                2996999000.0\n",
      "Tax Provision                                                   1356561000.0\n",
      "Pretax Income                                                   4353560000.0\n",
      "Other Non Operating Income Expenses                             1251629000.0\n",
      "Net Non Operating Interest Income Expense                        812552000.0\n",
      "Interest Expense Non Operating                                   289507000.0\n",
      "Interest Income Non Operating                                   1102059000.0\n",
      "Operating Income                                                2248853000.0\n",
      "Operating Expense                                              11125283000.0\n",
      "Other Operating Expenses                                         -38969000.0\n",
      "Research And Development                                        1111526000.0\n",
      "Selling General And Administration                             10052726000.0\n",
      "Selling And Marketing Expense                                   7131842000.0\n",
      "General And Administrative Expense                              2920884000.0\n",
      "Gross Profit                                                   13374136000.0\n",
      "Cost Of Revenue                                               112596114000.0\n",
      "Total Revenue                                                 125970250000.0\n",
      "Operating Revenue                                             125970250000.0\n",
      "dtype: object\n"
     ]
    }
   ],
   "source": [
    "import yfinance as yf\n",
    "\n",
    "ticker = \"2353.TW\"\n",
    "\n",
    "data = yf.Ticker(ticker)\n",
    "\n",
    "BS_2023_Q4 = data.balance_sheet.get(\"2023-12-31\")\n",
    "BS_2024_Q2 = data.quarterly_balance_sheet.get(\"2024-06-30\")\n",
    "\n",
    "IS_2024_Q1 = data.quarterly_income_stmt.get(\"2024-03-31\")\n",
    "IS_2024_Q2 = data.quarterly_income_stmt.get(\"2024-06-30\")\n",
    "IS_2024_HY = IS_2024_Q1.add(IS_2024_Q2, fill_value=0)\n",
    "\n",
    "ROA = IS_2024_HY.get(\"Net Income Continuous Operations\")/((BS_2023_Q4.get(\"Total Assets\")+BS_2024_Q2.get(\"Total Assets\"))/2)*100\n",
    "ROE = IS_2024_HY.get(\"Net Income Continuous Operations\")/((BS_2023_Q4.get(\"Total Equity Gross Minority Interest\")+BS_2024_Q2.get(\"Total Equity Gross Minority Interest\"))/2)*100\n",
    "print(ROA, ROE)\n",
    "\n",
    "print(IS_2024_HY)\n"
   ]
  },
  {
   "cell_type": "code",
   "execution_count": 27,
   "id": "8f4f5aba",
   "metadata": {},
   "outputs": [],
   "source": [
    "import pandas as pd \n",
    "\n",
    "df =pd.DataFrame(BS_2024_Q2)\n",
    "df.to_excel(\"output.xlsx\", index = True)"
   ]
  },
  {
   "cell_type": "code",
   "execution_count": null,
   "id": "c1629021",
   "metadata": {},
   "outputs": [],
   "source": [
    "import yfinance as yf \n",
    "import twstock\n",
    "\n",
    "dict_PE = {}\n",
    "for i in range(1099,9959):\n",
    "    try:\n",
    "        ticker = str(i) + \".TW\"\n",
    "        data = yf.Ticker(ticker)\n",
    "        IS_2024_Q1 = data.quarterly_income_stmt.get(\"2024-03-31\")\n",
    "        IS_2024_Q2 = data.quarterly_income_stmt.get(\"2024-06-30\")\n",
    "        IS_2024_HY = IS_2024_Q1.add(IS_2024_Q2, fill_value=0)\n",
    "        EPS = IS_2024_HY.get(\"Basic EPS\") * 2\n",
    "        \n",
    "        stock = twstock.Stock(str(i))\n",
    "        stock_price = stock.price[-1]\n",
    "        \n",
    "        PE_Ratio = stock_price/EPS\n",
    "    except:\n",
    "        PE_Ratio = \"N/A\"\n",
    "    dict_PE[i] = PE_Ratio\n",
    "    \n",
    "dict_PE1 = {key: value for key, value in dict_PE.items() if value != 'N/A'}\n",
    "print(dict_PE1)\n"
   ]
  },
  {
   "cell_type": "code",
   "execution_count": null,
   "id": "4f111f07",
   "metadata": {},
   "outputs": [],
   "source": []
  }
 ],
 "metadata": {
  "kernelspec": {
   "display_name": "Python 3 (ipykernel)",
   "language": "python",
   "name": "python3"
  },
  "language_info": {
   "codemirror_mode": {
    "name": "ipython",
    "version": 3
   },
   "file_extension": ".py",
   "mimetype": "text/x-python",
   "name": "python",
   "nbconvert_exporter": "python",
   "pygments_lexer": "ipython3",
   "version": "3.11.5"
  }
 },
 "nbformat": 4,
 "nbformat_minor": 5
}
