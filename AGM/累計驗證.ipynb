{
 "cells": [
  {
   "cell_type": "code",
   "execution_count": 19,
   "id": "cc33edd6",
   "metadata": {},
   "outputs": [
    {
     "name": "stdout",
     "output_type": "stream",
     "text": [
      "2.3370827614670264 7.776811734970382\n",
      "7742558500.0\n",
      "2326789000.0\n",
      "3.327572246559529\n",
      "2.9805201988464147\n",
      "1.568238163506877\n",
      "180950000.0\n",
      "11538426000.0\n"
     ]
    }
   ],
   "source": [
    "import yfinance as yf\n",
    "\n",
    "ticker = \"6776.TW\"\n",
    "\n",
    "data = yf.Ticker(ticker)\n",
    "\n",
    "BS_2023_Q4 = data.balance_sheet.get(\"2023-12-31\")\n",
    "BS_2024_Q2 = data.quarterly_balance_sheet.get(\"2024-06-30\")\n",
    "\n",
    "IS_2024_Q1 = data.quarterly_income_stmt.get(\"2024-03-31\")\n",
    "IS_2024_Q2 = data.quarterly_income_stmt.get(\"2024-06-30\")\n",
    "IS_2024_HY = IS_2024_Q1.add(IS_2024_Q2, fill_value=0)\n",
    "\n",
    "ROA = IS_2024_HY.get(\"Net Income Continuous Operations\")/((BS_2023_Q4.get(\"Total Assets\")+BS_2024_Q2.get(\"Total Assets\"))/2)*100\n",
    "ROE = IS_2024_HY.get(\"Net Income Continuous Operations\")/((BS_2023_Q4.get(\"Total Equity Gross Minority Interest\")+BS_2024_Q2.get(\"Total Equity Gross Minority Interest\"))/2)*100\n",
    "Asset_TO = IS_2024_HY.get(\"Total Revenue\")/((BS_2023_Q4.get(\"Total Assets\")+BS_2024_Q2.get(\"Total Assets\"))/4)\n",
    "\n",
    "\n",
    "Asset = (BS_2023_Q4.get(\"Total Assets\")+BS_2024_Q2.get(\"Total Assets\"))/2\n",
    "Equity = (BS_2023_Q4.get(\"Total Equity Gross Minority Interest\")+BS_2024_Q2.get(\"Total Equity Gross Minority Interest\"))/2\n",
    "Profit_Margin = IS_2024_HY.get(\"Net Income Continuous Operations\")/IS_2024_HY.get(\"Total Revenue\")*100\n",
    "print(ROA, ROE)\n",
    "print(Asset)\n",
    "print(Equity)\n",
    "print(Asset/Equity)\n",
    "print(Asset_TO)\n",
    "print(Profit_Margin)\n",
    "print(IS_2024_HY.get(\"Net Income Continuous Operations\"))\n",
    "print(IS_2024_HY.get(\"Total Revenue\"))\n"
   ]
  },
  {
   "cell_type": "code",
   "execution_count": null,
   "id": "c1629021",
   "metadata": {},
   "outputs": [],
   "source": [
    "import pandas as pd \n",
    "\n",
    "df =pd.DataFrame(IS_2024_HY)\n",
    "df.to_excel(\"output.xlsx\", index = True)"
   ]
  }
 ],
 "metadata": {
  "kernelspec": {
   "display_name": "Python 3 (ipykernel)",
   "language": "python",
   "name": "python3"
  },
  "language_info": {
   "codemirror_mode": {
    "name": "ipython",
    "version": 3
   },
   "file_extension": ".py",
   "mimetype": "text/x-python",
   "name": "python",
   "nbconvert_exporter": "python",
   "pygments_lexer": "ipython3",
   "version": "3.11.5"
  }
 },
 "nbformat": 4,
 "nbformat_minor": 5
}
